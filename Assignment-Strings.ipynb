{
 "cells": [
  {
   "cell_type": "markdown",
   "metadata": {},
   "source": [
    "Assignment: Strings"
   ]
  },
  {
   "cell_type": "markdown",
   "metadata": {},
   "source": [
    "1. Write a program that asks the user to enter a string. The program should then print the following: \n",
    "(a) The total number of characters in the string \n",
    "(b) The string repeated 10 times \n",
    "(c) The first character of the string (remember that string indices start at 0) (d) The first three characters of the string \n",
    "(e) The last three characters of the string \n",
    "(f) The string backwards \n",
    "(g) The seventh character of the string if the string is long enough and a message otherwise \n",
    "(h) The string with its first and last characters removed\n",
    " (i) The string in all caps\n",
    " (j) The string with every a replaced with an e\n"
   ]
  },
  {
   "cell_type": "code",
   "execution_count": 18,
   "metadata": {},
   "outputs": [
    {
     "name": "stdout",
     "output_type": "stream",
     "text": [
      "Enter a string: shashikumar\n",
      "Total number of characters: 11\n",
      "String repeated 10 times: shashikumarshashikumarshashikumarshashikumarshashikumarshashikumarshashikumarshashikumarshashikumarshashikumar\n",
      "First character of the string: s\n",
      "First three characters of the string: sha\n",
      "Last three characters of the string: mar\n",
      "String backwards: ramukihsahs\n",
      "Seventh character of the string (if available): k\n",
      "String with first and last characters removed: hashikuma\n",
      "String in all caps: SHASHIKUMAR\n",
      "String with every 'a' replaced with 'e': sheshikumer\n"
     ]
    }
   ],
   "source": [
    "string1 = input(\"Enter a string: \")\n",
    "\n",
    "# (a) Total number of characters in the string\n",
    "print(\"Total number of characters:\", len(string1))\n",
    "\n",
    "# (b) The string repeated 10 times\n",
    "print(\"String repeated 10 times:\", string1 * 10)\n",
    "\n",
    "# (c) The first character of the string\n",
    "print(\"First character of the string:\", string1[0])\n",
    "\n",
    "# (d) The first three characters of the string\n",
    "print(\"First three characters of the string:\", string1[:3])\n",
    "\n",
    "# (e) The last three characters of the string\n",
    "print(\"Last three characters of the string:\", string1[-3:])\n",
    "\n",
    "# (f) The string backwards\n",
    "print(\"String backwards:\", string1[::-1])\n",
    "\n",
    "# (g) The seventh character of the string or a message if it's too short\n",
    "print(\"Seventh character of the string (if available):\", string1[6] if len(string1) >= 7 else \"String is too short\")\n",
    "\n",
    "# (h) The string with its first and last characters removed\n",
    "print(\"String with first and last characters removed:\", string1[1:-1])\n",
    "\n",
    "# (i) The string in all caps\n",
    "print(\"String in all caps:\", string1.upper())\n",
    "\n",
    "# (j) The string with every 'a' replaced with an 'e'\n",
    "print(\"String with every 'a' replaced with 'e':\", string1.replace('a', 'e'))"
   ]
  },
  {
   "cell_type": "markdown",
   "metadata": {},
   "source": [
    "2. A simple way to estimate the number of words in a string is to count the number of spaces in the string. Write a program that asks the user for a string and returns an estimate of how many words are in the string.\n",
    "Tip: You need to count the number of words using spaces\n"
   ]
  },
  {
   "cell_type": "code",
   "execution_count": 23,
   "metadata": {},
   "outputs": [
    {
     "name": "stdout",
     "output_type": "stream",
     "text": [
      "Enter a string: shashi kumar\n",
      "Estimated number of words in the string: 2\n"
     ]
    }
   ],
   "source": [
    "string2 = input(\"Enter a string: \")\n",
    "\n",
    "# Count the number of words using spaces\n",
    "num_words = string2.count(' ') + 1\n",
    "\n",
    "print(\"Estimated number of words in the string:\", num_words)"
   ]
  },
  {
   "cell_type": "markdown",
   "metadata": {},
   "source": [
    "3.Write a program that asks the user to enter a word and prints out whether that word contains any vowels."
   ]
  },
  {
   "cell_type": "code",
   "execution_count": 14,
   "metadata": {},
   "outputs": [
    {
     "name": "stdout",
     "output_type": "stream",
     "text": [
      "Ente a word:shAshI\n",
      "Different vowels present in the string AI\n",
      "unique vowes in the given word is  2\n"
     ]
    }
   ],
   "source": [
    "str1 = input(\"Ente a word:\")\n",
    "vowel=\"\"\n",
    "\n",
    "for i in str1:\n",
    "    if i in \"aeiouAEIOU\":\n",
    "        if i not in vowel:\n",
    "            vowel += i\n",
    "\n",
    "print(\"Different vowels present in the string\", vowel)\n",
    "print(\"unique vowes in the given word is \", len(vowel))"
   ]
  },
  {
   "cell_type": "markdown",
   "metadata": {},
   "source": [
    "4. Improvise above code by providing unique vowels"
   ]
  },
  {
   "cell_type": "code",
   "execution_count": 27,
   "metadata": {},
   "outputs": [
    {
     "name": "stdout",
     "output_type": "stream",
     "text": [
      "Enter a word: shashi\n",
      "Unique vowels in the given word: a, i\n",
      "Number of unique vowels: 2\n"
     ]
    }
   ],
   "source": [
    "str1 = input(\"Enter a word: \")\n",
    "vowels = tuple(c for c in str1 if c.lower() in \"aeiouAEIOU\")\n",
    "    \n",
    "print(\"Unique vowels in the given word:\", \", \".join(vowels))\n",
    "print(\"Number of unique vowels:\", len(vowels))"
   ]
  },
  {
   "cell_type": "markdown",
   "metadata": {},
   "source": [
    "5. Write a program that asks the user to enter a string. The program should create a new string called new_string from the user’s string such that the second character is changed to an asterisk and three exclamation points are attached to the end of the string. Finally, print new_string. \n",
    "Typical output is shown below: \n",
    "Enter your string: Qbert \n",
    "Output:  Q*ert!!!\n"
   ]
  },
  {
   "cell_type": "code",
   "execution_count": 32,
   "metadata": {},
   "outputs": [
    {
     "name": "stdout",
     "output_type": "stream",
     "text": [
      "Enter your string: Qbert\n",
      "Output: Q*ert!!!\n"
     ]
    }
   ],
   "source": [
    "str5 = input(\"Enter your string: \")\n",
    "\n",
    "if len(str5) >= 2:\n",
    "    new_string = str5[0] + '*' + str5[2:] + '!!!'\n",
    "    print(\"Output:\", new_string)\n",
    "else:\n",
    "    print(\"Input string is too short!\")"
   ]
  },
  {
   "cell_type": "markdown",
   "metadata": {},
   "source": [
    "6. Write a program that asks the user to enter a word and determines whether the word is a palindrome or not. A palindrome is a word that reads the same backwards as forwards"
   ]
  },
  {
   "cell_type": "code",
   "execution_count": 30,
   "metadata": {},
   "outputs": [
    {
     "name": "stdout",
     "output_type": "stream",
     "text": [
      "enter a word:hannah\n",
      "It is not a palindrome\n"
     ]
    }
   ],
   "source": [
    "string6=input(\"enter a word:\")\n",
    "\n",
    "string7 = \"\"\n",
    "\n",
    "if (string6 == string7[::-1]):\n",
    "    print(\"Yes it is a palindrome\")\n",
    "else:\n",
    "    print(\"It is not a palindrome\")\n",
    "    "
   ]
  },
  {
   "cell_type": "markdown",
   "metadata": {},
   "source": [
    "7. At a certain school, student email addresses end with @student.college.edu, while professor email addresses end with @prof.college.edu. Write a program that first asks the user how many email addresses they will be entering, and then has the user enter those addresses. After all the email addresses are entered, the program should print out a message indicating either that all the addresses are student addresses or that there were some professor addresses entered.\n"
   ]
  },
  {
   "cell_type": "code",
   "execution_count": 4,
   "metadata": {},
   "outputs": [
    {
     "name": "stdout",
     "output_type": "stream",
     "text": [
      "How many email addresses will you be entering? 1\n",
      "Enter email address : student@student.college.edu\n",
      "All the addresses are student addresses.\n"
     ]
    }
   ],
   "source": [
    "num_addresses = int(input(\"How many email addresses will you be entering? \"))\n",
    "    \n",
    "student_addresses = []\n",
    "professor_addresses = []\n",
    "\n",
    "for i in range(num_addresses):\n",
    "    email = input(\"Enter email address : \".format(i+1))\n",
    "    if email.endswith(\"@student.college.edu\"):\n",
    "        student_addresses.append(email)\n",
    "    else:\n",
    "        professor_addresses.append(email)\n",
    "\n",
    "if len(professor_addresses) == 0:\n",
    "    print(\"All the addresses are student addresses.\")\n",
    "else:\n",
    "    print(\"There were some professor addresses entered.\")\n",
    "    print(\"Professor addresses: \", ', '.join(professor_addresses))\n"
   ]
  },
  {
   "cell_type": "markdown",
   "metadata": {},
   "source": [
    "8. Write a program that asks the user to enter a string, then prints out each letter of the string doubled and on a separate line. For instance, \n",
    "if the user entered HEY, \n",
    "the output would be \n",
    "HH \n",
    "EE \n",
    "YY"
   ]
  },
  {
   "cell_type": "code",
   "execution_count": 36,
   "metadata": {},
   "outputs": [
    {
     "name": "stdout",
     "output_type": "stream",
     "text": [
      "Enter a string: STR\n",
      "SS TT RR \n"
     ]
    }
   ],
   "source": [
    "str8 = input(\"Enter a string: \")\n",
    "\n",
    "doubled_letters = \"\"\n",
    "for letter in str8:\n",
    "    doubled_letters += letter * 2 + \" \"\n",
    "\n",
    "print(doubled_letters)"
   ]
  },
  {
   "cell_type": "markdown",
   "metadata": {},
   "source": [
    "9.Write a program that asks the user to enter a word that contains the letter a. The program should then print the following two lines: On the first line should be the part of the string up to and including the the first a, and on the second line should be the rest of the string. \n",
    "Sample output is shown below: \n",
    "Enter a word: buffalo \n",
    "buffa \n",
    "lo\n"
   ]
  },
  {
   "cell_type": "code",
   "execution_count": 41,
   "metadata": {},
   "outputs": [
    {
     "name": "stdout",
     "output_type": "stream",
     "text": [
      "Enter a word: omkar\n",
      "omka\n",
      "r\n"
     ]
    }
   ],
   "source": [
    "str9 = input(\"Enter a word: \")\n",
    "\n",
    "first_a_index = str9.find('a')\n",
    "\n",
    "if first_a_index != -1:\n",
    "    part1 = str9[:first_a_index + 1]\n",
    "    part2 = str9[first_a_index + 1:]\n",
    "    print(part1)\n",
    "    print(part2)\n",
    "else:\n",
    "    print(\"The word does not contain the letter 'a'.\")"
   ]
  },
  {
   "cell_type": "markdown",
   "metadata": {},
   "source": [
    "10. Write a program that asks the user to enter a word and then capitalizes every other letter of that word. \n",
    "So if the user enters rhinoceros, \n",
    "the program should print rHiNoCeRoS."
   ]
  },
  {
   "cell_type": "code",
   "execution_count": 31,
   "metadata": {},
   "outputs": [
    {
     "name": "stdout",
     "output_type": "stream",
     "text": [
      "Enter a word: shashi\n",
      "Capitalized: sHaShI\n"
     ]
    }
   ],
   "source": [
    "def capitalize_alternate(word):\n",
    "    capitalized = \"\"\n",
    "    capitalize_next = True\n",
    "    for letter in word:\n",
    "        if capitalize_next:\n",
    "            capitalized += letter.lower()\n",
    "        else:\n",
    "            capitalized += letter.upper()\n",
    "        capitalize_next = not capitalize_next\n",
    "    return capitalized\n",
    "\n",
    "str10 = input(\"Enter a word: \")\n",
    "capitalized = capitalize_alternate(str10)\n",
    "print(\"Capitalized:\", capitalized)\n"
   ]
  },
  {
   "cell_type": "markdown",
   "metadata": {},
   "source": [
    "11. Write a program that asks the user to enter two strings of the same length. The program should then check to see if the strings are of the same length. If they are not, the program should print an appropriate message and exit. If they are of the same length, the program should alternate the characters of the two strings. For example, \n",
    "if the user enters abcde and ABCDE \n",
    "the program should print out AaBbCcDdEe."
   ]
  },
  {
   "cell_type": "code",
   "execution_count": 2,
   "metadata": {},
   "outputs": [
    {
     "name": "stdout",
     "output_type": "stream",
     "text": [
      "Enter the first string: SHASHI\n",
      "Enter the second string: shashi\n",
      "Interleaved strings: sShHaAsShHiI\n"
     ]
    }
   ],
   "source": [
    "str11 = input(\"Enter the first string: \")\n",
    "str22 = input(\"Enter the second string: \")\n",
    "\n",
    "if len(str11) != len(str22):\n",
    "    print(\"Both strings should be of the same length.\")\n",
    "\n",
    "interleaved_str = ''.join(c1 + c2 for c1, c2 in zip(str22, str11))\n",
    "print(\"Interleaved strings:\", interleaved_str)"
   ]
  },
  {
   "cell_type": "markdown",
   "metadata": {},
   "source": [
    "12. Write a program that asks the user to enter their name in lowercase and then capitalizes the first letter of each word of their name."
   ]
  },
  {
   "cell_type": "code",
   "execution_count": 43,
   "metadata": {},
   "outputs": [
    {
     "name": "stdout",
     "output_type": "stream",
     "text": [
      "Enter your name in lowercase: shashi kumar\n",
      "Your name with the first letter of each word capitalized: Shashi Kumar\n"
     ]
    }
   ],
   "source": [
    "lower = input(\"Enter your name in lowercase: \")\n",
    "\n",
    "# Capitalize the first letter of each word\n",
    "capitalized_name = lower.title()\n",
    "\n",
    "print(\"Your name with the first letter of each word capitalized:\", capitalized_name)"
   ]
  },
  {
   "cell_type": "markdown",
   "metadata": {},
   "source": [
    "13. The goal of this exercise is to see if you can mimic the behavior of the in operator and the count and index methods using only variables, for loops, and if statements. \n",
    "(a) Without using the in operator, write a program that asks the user for a string and a letter and prints out whether or not the letter appears in the string. \n",
    "(b) Without using the count method, write a program that asks the user for a string and a letter and counts how many occurrences there are of the letter in the string. \n",
    "(c) Without using the index method, write a program that asks the user for a string and a letter and prints out the index of the first occurrence of the letter in the string. If the letter is not in the string, the program should say so.\n"
   ]
  },
  {
   "cell_type": "code",
   "execution_count": 1,
   "metadata": {},
   "outputs": [
    {
     "name": "stdout",
     "output_type": "stream",
     "text": [
      "Enter a string: shashi\n",
      "Enter a letter to search: a\n",
      "The letter 'a' appears in the string.\n",
      "Enter a letter to count: i\n",
      "The letter 'i' appears 1 times in the string.\n",
      "The letter 'a' is first found at index 2.\n"
     ]
    }
   ],
   "source": [
    "def check_letter_in_string(string, letter):\n",
    "    for char in string:\n",
    "        if char == letter:\n",
    "            return True\n",
    "    return False\n",
    "\n",
    "def count_letter_occurrences(string, letter):\n",
    "    count = 0\n",
    "    for char in string:\n",
    "        if char == letter:\n",
    "            count += 1\n",
    "    return count\n",
    "\n",
    "def find_letter_index(string, letter):\n",
    "    for index, char in enumerate(string):\n",
    "        if char == letter:\n",
    "            return index\n",
    "    return -1\n",
    "\n",
    "def main():\n",
    "    user_input = input(\"Enter a string: \")\n",
    "    search_letter = input(\"Enter a letter to search: \")\n",
    "\n",
    "    # Part (a)\n",
    "    if check_letter_in_string(user_input, search_letter):\n",
    "        print(f\"The letter '{search_letter}' appears in the string.\")\n",
    "    else:\n",
    "        print(f\"The letter '{search_letter}' does not appear in the string.\")\n",
    "\n",
    "    # Part (b)\n",
    "    count_letter = input(\"Enter a letter to count: \")\n",
    "    occurrences = count_letter_occurrences(user_input, count_letter)\n",
    "    print(f\"The letter '{count_letter}' appears {occurrences} times in the string.\")\n",
    "\n",
    "    # Part (c)\n",
    "    index = find_letter_index(user_input, search_letter)\n",
    "    if index != -1:\n",
    "        print(f\"The letter '{search_letter}' is first found at index {index}.\")\n",
    "    else:\n",
    "        print(f\"The letter '{search_letter}' is not in the string.\")\n",
    "\n",
    "if __name__ == \"__main__\":\n",
    "    main()"
   ]
  },
  {
   "cell_type": "markdown",
   "metadata": {},
   "source": [
    "14. Finding a substring within a string\n",
    "\n",
    "For example, if we were presented a series of lines formatted as follows:\n",
    "From stephen.marquard@uct.ac.za Sat Jan 5 09:14:16 2008\n",
    "and we wanted to pull out only the second half of the address (i.e., uct.ac.za)"
   ]
  },
  {
   "cell_type": "code",
   "execution_count": 3,
   "metadata": {},
   "outputs": [
    {
     "name": "stdout",
     "output_type": "stream",
     "text": [
      "Second half of the address: uct.ac.za Sat Jan 5 09:14:16 2008\n"
     ]
    }
   ],
   "source": [
    "str14 = \"From stephen.marquard@uct.ac.za Sat Jan 5 09:14:16 2008\"\n",
    "\n",
    "# Find the starting index of the email address\n",
    "start_index = str14.find('@') + 1\n",
    "\n",
    "# Extract the second half of the email address\n",
    "second_half_address = str14[start_index:]\n",
    "\n",
    "print(\"Second half of the address:\", second_half_address)\n",
    "\n",
    "#second address start after the @ punctuation\n"
   ]
  },
  {
   "cell_type": "markdown",
   "metadata": {},
   "source": [
    "15.\tWrite a Python program to add 'ing' at the end of a given string (length should be at least 3). If the given string already ends with 'ing' then add 'ly' instead. \n",
    "If the string length of the given string is less than 3, leave it unchanged. \n",
    "Go to the editor \n",
    "Sample String : 'abc' \n",
    "Expected Result : 'abcing' \n",
    "Sample String : 'string' \n",
    "Expected Result : 'stringly'"
   ]
  },
  {
   "cell_type": "code",
   "execution_count": 6,
   "metadata": {},
   "outputs": [
    {
     "name": "stdout",
     "output_type": "stream",
     "text": [
      "Sample String 1: abc\n",
      "Expected Result 1: abcing\n",
      "Sample String 2: string\n",
      "Expected Result 2: stringly\n"
     ]
    }
   ],
   "source": [
    "def modify_string(input_string):\n",
    "    if len(input_string) < 3:\n",
    "        return input_string\n",
    "\n",
    "    if input_string[-3:] == 'ing':\n",
    "        return input_string + 'ly'\n",
    "    else:\n",
    "        return input_string + 'ing'\n",
    "\n",
    "# Sample test cases\n",
    "sample_string_1 = 'abc'\n",
    "sample_string_2 = 'string'\n",
    "\n",
    "result_1 = modify_string(sample_string_1)\n",
    "result_2 = modify_string(sample_string_2)\n",
    "\n",
    "print(\"Sample String 1:\", sample_string_1)\n",
    "print(\"Expected Result 1:\", result_1)\n",
    "print(\"Sample String 2:\", sample_string_2)\n",
    "print(\"Expected Result 2:\", result_2)"
   ]
  },
  {
   "cell_type": "markdown",
   "metadata": {},
   "source": [
    "16.\tTake the following Python code that stores a string:‘\n",
    "         \n",
    "string = 'X-DSPAM-Confidence: 0.8475'\n",
    "      Extract the portion of the string after the colon character and then use the float function to     convert the extracted string into a floating point number.\n",
    "\n"
   ]
  },
  {
   "cell_type": "code",
   "execution_count": 5,
   "metadata": {},
   "outputs": [
    {
     "name": "stdout",
     "output_type": "stream",
     "text": [
      "Extracted confidence: 0.8475\n"
     ]
    }
   ],
   "source": [
    "str16 = 'X-DSPAM-Confidence: 0.8475'\n",
    "\n",
    "# Find the index of the colon character\n",
    "colon_index = str16.find(':')\n",
    "\n",
    "# Extract the portion of the string after the colon\n",
    "extracted_string = str16[colon_index + 1:]\n",
    "\n",
    "# Convert the extracted string to a floating-point number\n",
    "res = float(extracted_string)\n",
    "\n",
    "print(\"Extracted confidence:\", res)"
   ]
  }
 ],
 "metadata": {
  "kernelspec": {
   "display_name": "Python 3",
   "language": "python",
   "name": "python3"
  },
  "language_info": {
   "codemirror_mode": {
    "name": "ipython",
    "version": 3
   },
   "file_extension": ".py",
   "mimetype": "text/x-python",
   "name": "python",
   "nbconvert_exporter": "python",
   "pygments_lexer": "ipython3",
   "version": "3.7.6"
  }
 },
 "nbformat": 4,
 "nbformat_minor": 4
}
