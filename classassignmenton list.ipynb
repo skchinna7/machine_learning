{
 "cells": [
  {
   "cell_type": "markdown",
   "metadata": {},
   "source": [
    "1. Write a program that asks the user to enter a list of integers. Do the following:\n",
    "(a) Print the total number of items in the list.\n",
    "(b) Print the last item in the list.\n",
    "(c) Print the list in reverse order.\n",
    "(d) Print Yes if the list contains a 5 and No otherwise.\n",
    "(e) Print the number of fives in the list.\n",
    "(f) Remove the first and last items from the list, sort the remaining items, and print the\n",
    "result.\n",
    "(g) Print how many integers in the list are less than 5."
   ]
  },
  {
   "cell_type": "code",
   "execution_count": 1,
   "metadata": {},
   "outputs": [
    {
     "name": "stdout",
     "output_type": "stream",
     "text": [
      "Enter integers separated by spaces: 4 5 6 2 1 7\n",
      "Total items: 6\n",
      "Last item: 7\n",
      "Reversed: [7, 1, 2, 6, 5, 4]\n",
      "Contains 5\n",
      "Number of fives: 1\n",
      "Sorted after removing first and last: [1, 2, 5, 6]\n",
      "Integers less than 5: 2\n"
     ]
    }
   ],
   "source": [
    "# Ask user for a list of integers\n",
    "user_list = input(\"Enter integers separated by spaces: \")\n",
    "user_list = [int(x) for x in user_list.split()]\n",
    "\n",
    "# Display total items\n",
    "print(\"Total items:\", len(user_list))\n",
    "\n",
    "# Display last item\n",
    "print(\"Last item:\", user_list[-1])\n",
    "\n",
    "# Display list in reverse\n",
    "print(\"Reversed:\", user_list[::-1])\n",
    "\n",
    "# Check for 5\n",
    "if 5 in user_list:\n",
    "    print(\"Contains 5\")\n",
    "else:\n",
    "    print(\"Does not contain 5\")\n",
    "\n",
    "# Count fives\n",
    "print(\"Number of fives:\", user_list.count(5))\n",
    "\n",
    "# Remove, sort, and show\n",
    "user_list.pop(0)\n",
    "user_list.pop(-1)\n",
    "user_list.sort()\n",
    "print(\"Sorted after removing first and last:\", user_list)\n",
    "\n",
    "# Count less than 5\n",
    "count = sum(x < 5 for x in user_list)\n",
    "print(\"Integers less than 5:\", count)\n"
   ]
  },
  {
   "cell_type": "markdown",
   "metadata": {},
   "source": [
    "2. Write a program that generates a list of 20 random numbers between 1 and 100.\n",
    "(a) Print the list.\n",
    "(b) Print the average of the elements in the list.\n",
    "(c) Print the largest and smallest values in the list.\n",
    "(d) Print the second largest and second smallest entries in the list\n",
    "(e) Print how many even numbers are in the list."
   ]
  },
  {
   "cell_type": "code",
   "execution_count": 6,
   "metadata": {},
   "outputs": [
    {
     "name": "stdout",
     "output_type": "stream",
     "text": [
      "Generated list of random numbers: [53, 9, 27, 98, 77, 88, 33, 83, 45, 16, 88, 77, 88, 79, 47, 48, 37, 30, 59, 40]\n",
      "Average of the elements: 56.1\n",
      "Largest value: 98\n",
      "Smallest value: 9\n",
      "Second largest value: 88\n",
      "Second smallest value: 16\n",
      "Number of even numbers: 8\n"
     ]
    }
   ],
   "source": [
    "import random\n",
    "\n",
    "# Generate a list of 20 random numbers between 1 and 100\n",
    "random_numbers = [random.randint(1, 100) for _ in range(20)]\n",
    "\n",
    "# (a) Print the list\n",
    "print(\"Generated list of random numbers:\", random_numbers)\n",
    "\n",
    "# (b) Calculate and print the average of the elements in the list\n",
    "average = sum(random_numbers) / len(random_numbers)\n",
    "print(\"Average of the elements:\", average)\n",
    "\n",
    "# (c) Print the largest and smallest values in the list\n",
    "largest = max(random_numbers)\n",
    "smallest = min(random_numbers)\n",
    "print(\"Largest value:\", largest)\n",
    "print(\"Smallest value:\", smallest)\n",
    "\n",
    "# (d) Print the second largest and second smallest entries in the list\n",
    "sorted_numbers = sorted(random_numbers)\n",
    "second_largest = sorted_numbers[-2]\n",
    "second_smallest = sorted_numbers[1]\n",
    "print(\"Second largest value:\", second_largest)\n",
    "print(\"Second smallest value:\", second_smallest)\n",
    "\n",
    "# (e) Count and print how many even numbers are in the list\n",
    "even_count = sum(num % 2 == 0 for num in random_numbers)\n",
    "print(\"Number of even numbers:\", even_count)"
   ]
  },
  {
   "cell_type": "markdown",
   "metadata": {},
   "source": [
    "3. Start with the list [8,9,10]. Do the following:\n",
    "(a) Set the second entry (index 1) to 17\n",
    "(b) Add 4, 5, and 6 to the end of the list\n",
    "(c) Remove the first entry from the list\n",
    "(d) Sort the list\n",
    "(e) Double the list\n",
    "(f) Insert 25 at index 3\n",
    "The final list should equal [4,5,6,25,10,17,4,5,6,10,17]"
   ]
  },
  {
   "cell_type": "code",
   "execution_count": 7,
   "metadata": {},
   "outputs": [
    {
     "name": "stdout",
     "output_type": "stream",
     "text": [
      "Final list: [4, 5, 6, 25, 10, 17, 4, 5, 6, 10, 17]\n"
     ]
    }
   ],
   "source": [
    "my_list1 = [8, 9, 10]\n",
    "\n",
    "my_list1[1] = 17\n",
    "my_list1.extend([4, 5, 6])\n",
    "my_list1.pop(0)\n",
    "my_list1.sort()\n",
    "my_list1 *= 2\n",
    "my_list1.insert(3, 25)\n",
    "\n",
    "print(\"Final list:\", my_list1)"
   ]
  },
  {
   "cell_type": "markdown",
   "metadata": {},
   "source": [
    "4. Ask the user to enter a list containing numbers between 1 and 12. Then replace all of the entries\n",
    "in the list that are greater than 10 with 10."
   ]
  },
  {
   "cell_type": "code",
   "execution_count": 10,
   "metadata": {},
   "outputs": [
    {
     "name": "stdout",
     "output_type": "stream",
     "text": [
      "Enter a list of numbers between 1 and 12, separated by spaces: 11 12 10 8 9\n",
      "Modified list: [10, 10, 10, 8, 9]\n"
     ]
    }
   ],
   "source": [
    "user_input = input(\"Enter a list of numbers between 1 and 12, separated by spaces: \")\n",
    "num_list = [int(num) for num in user_input.split()]\n",
    "\n",
    "# Replace entries greater than 10 with 10\n",
    "for i in range(len(num_list)):\n",
    "    num_list[i] = min(num_list[i], 10)\n",
    "print(\"Modified list:\", num_list)"
   ]
  },
  {
   "cell_type": "markdown",
   "metadata": {},
   "source": [
    "5. Ask the user to enter a list of strings. Create a new list that consists of those strings with their first\n",
    "characters removed."
   ]
  },
  {
   "cell_type": "code",
   "execution_count": 11,
   "metadata": {},
   "outputs": [
    {
     "name": "stdout",
     "output_type": "stream",
     "text": [
      "Enter a list of strings, separated by spaces: apple\n",
      "New list with first characters removed: ['pple']\n"
     ]
    }
   ],
   "source": [
    "user_input = input(\"Enter a list of strings, separated by spaces: \")\n",
    "string_list = user_input.split()\n",
    "\n",
    "# Create a new list with first characters removed\n",
    "new_list = [s[1:] for s in string_list]\n",
    "\n",
    "print(\"New list with first characters removed:\", new_list)"
   ]
  },
  {
   "cell_type": "markdown",
   "metadata": {},
   "source": [
    "6. Create the following lists using a for loop.\n",
    "(a) A list consisting of the integers 0 through 49\n",
    "(b) A list containing the squares of the integers 1 through 50."
   ]
  },
  {
   "cell_type": "code",
   "execution_count": 12,
   "metadata": {},
   "outputs": [
    {
     "name": "stdout",
     "output_type": "stream",
     "text": [
      "(a) List of integers 0 through 49: [0, 1, 2, 3, 4, 5, 6, 7, 8, 9, 10, 11, 12, 13, 14, 15, 16, 17, 18, 19, 20, 21, 22, 23, 24, 25, 26, 27, 28, 29, 30, 31, 32, 33, 34, 35, 36, 37, 38, 39, 40, 41, 42, 43, 44, 45, 46, 47, 48, 49]\n",
      "(b) List of squares of integers 1 through 50: [1, 4, 9, 16, 25, 36, 49, 64, 81, 100, 121, 144, 169, 196, 225, 256, 289, 324, 361, 400, 441, 484, 529, 576, 625, 676, 729, 784, 841, 900, 961, 1024, 1089, 1156, 1225, 1296, 1369, 1444, 1521, 1600, 1681, 1764, 1849, 1936, 2025, 2116, 2209, 2304, 2401, 2500]\n"
     ]
    }
   ],
   "source": [
    "# (a) A list consisting of the integers 0 through 49\n",
    "list_a = list(range(50))\n",
    "\n",
    "# (b) A list containing the squares of the integers 1 through 50\n",
    "list_b = [i ** 2 for i in range(1, 51)]\n",
    "\n",
    "print(\"(a) List of integers 0 through 49:\", list_a)\n",
    "print(\"(b) List of squares of integers 1 through 50:\", list_b)"
   ]
  },
  {
   "cell_type": "markdown",
   "metadata": {},
   "source": [
    "7. Write a program that takes any two lists L and M of the same size and adds their elements\n",
    "together to form a new list N whose elements are sums of the corresponding elements in L and M.\n",
    "For instance, if L=[3,1,4] and M=[1,5,9], then N should equal [4,6,13]."
   ]
  },
  {
   "cell_type": "code",
   "execution_count": 13,
   "metadata": {},
   "outputs": [
    {
     "name": "stdout",
     "output_type": "stream",
     "text": [
      "List L: [3, 1, 4]\n",
      "List M: [1, 5, 9]\n",
      "List N (sum of L and M): [4, 6, 13]\n"
     ]
    }
   ],
   "source": [
    "L = [3, 1, 4]  # Replace with your own list L\n",
    "M = [1, 5, 9]  # Replace with your own list M\n",
    "\n",
    "# Check if both lists have the same size\n",
    "if len(L) != len(M):\n",
    "    print(\"Lists L and M must have the same size.\")\n",
    "else:\n",
    "    # Create a new list N by adding elements from L and M\n",
    "    N = [L[i] + M[i] for i in range(len(L))]\n",
    "\n",
    "    print(\"List L:\", L)\n",
    "    print(\"List M:\", M)\n",
    "    print(\"List N (sum of L and M):\", N)"
   ]
  },
  {
   "cell_type": "markdown",
   "metadata": {},
   "source": [
    "8. Write a program that generates 100 random integers that are either 0 or 1. Then find the longest\n",
    "run of zeros, the largest number of zeros in a row. For instance, the longest run of zeros in\n",
    "[1,0,1,1,0,0,0,0,1,0,0] is 4."
   ]
  },
  {
   "cell_type": "code",
   "execution_count": 15,
   "metadata": {},
   "outputs": [
    {
     "name": "stdout",
     "output_type": "stream",
     "text": [
      "Generated list of random integers: [0, 0, 1, 1, 0, 0, 1, 1, 1, 0, 0, 1, 0, 1, 1, 0, 0, 1, 1, 0, 0, 1, 1, 1, 1, 1, 0, 0, 1, 1, 0, 1, 1, 0, 0, 0, 1, 1, 1, 0, 0, 1, 0, 1, 0, 1, 1, 0, 1, 0, 0, 0, 1, 0, 0, 1, 1, 0, 0, 0, 0, 1, 0, 1, 0, 0, 1, 0, 1, 1, 1, 1, 1, 1, 1, 0, 0, 1, 1, 1, 1, 1, 0, 0, 1, 1, 1, 0, 0, 0, 0, 0, 1, 1, 1, 1, 1, 1, 1, 1]\n",
      "Longest run of zeros: 5\n"
     ]
    }
   ],
   "source": [
    "import random\n",
    "\n",
    "random_integers = [random.randint(0, 1) for _ in range(100)]\n",
    "\n",
    "print(\"Generated list of random integers:\", random_integers)\n",
    "\n",
    "max_zeros = 0\n",
    "current_zeros = 0\n",
    "\n",
    "for num in random_integers:\n",
    "    if num == 0:\n",
    "        current_zeros += 1\n",
    "        max_zeros = max(max_zeros, current_zeros)\n",
    "    else:\n",
    "        current_zeros = 0\n",
    "\n",
    "print(\"Longest run of zeros:\", max_zeros)"
   ]
  },
  {
   "cell_type": "markdown",
   "metadata": {},
   "source": [
    "9. Write a program that removes any repeated items from a list so that each item appears at most\n",
    "once. For instance, the list [1,1,2,3,4,3,0,0] would become [1,2,3,4,0]."
   ]
  },
  {
   "cell_type": "code",
   "execution_count": 16,
   "metadata": {},
   "outputs": [
    {
     "name": "stdout",
     "output_type": "stream",
     "text": [
      "Original list: [1, 1, 2, 3, 4, 3, 0, 0]\n",
      "List with repeated items removed: [1, 2, 3, 4, 0]\n"
     ]
    }
   ],
   "source": [
    "original_list = [1, 1, 2, 3, 4, 3, 0, 0]  # Replace with your own list\n",
    "\n",
    "unique_list = []\n",
    "\n",
    "for item in original_list:\n",
    "    if item not in unique_list:\n",
    "        unique_list.append(item)\n",
    "\n",
    "print(\"Original list:\", original_list)\n",
    "print(\"List with repeated items removed:\", unique_list)"
   ]
  },
  {
   "cell_type": "code",
   "execution_count": null,
   "metadata": {},
   "outputs": [],
   "source": [
    "10. Write a program that asks the user to enter a length in feet. The program should then give the\n",
    "user the option to convert from feet into inches, yards, miles, millimeters, centimeters, meters, or\n",
    "kilometers. Say if the user enters a 1, then the program converts to inches, if they enter a 2, then the\n",
    "program converts to yards, etc. While this can be done with if statements, it is much shorter with\n",
    "lists and it is also easier to add new conversions if you use lists."
   ]
  },
  {
   "cell_type": "code",
   "execution_count": 18,
   "metadata": {},
   "outputs": [
    {
     "name": "stdout",
     "output_type": "stream",
     "text": [
      "Enter a length in feet: 6\n",
      "Conversion options:\n",
      "1: Convert to inches\n",
      "2: Convert to yards\n",
      "3: Convert to miles\n",
      "4: Convert to millimeters\n",
      "5: Convert to centimeters\n",
      "6: Convert to meters\n",
      "7: Convert to kilometers\n",
      "Enter your choice: 5\n",
      "6.0 feet is 182.88 centimeters\n"
     ]
    }
   ],
   "source": [
    "length_feet = float(input(\"Enter a length in feet: \"))\n",
    "\n",
    "conversion_options = [\"inches\", \"yards\", \"miles\", \"millimeters\", \"centimeters\", \"meters\", \"kilometers\"]\n",
    "\n",
    "print(\"Conversion options:\")\n",
    "for i, unit in enumerate(conversion_options, start=1):\n",
    "    print(f\"{i}: Convert to {unit}\")\n",
    "\n",
    "choice = int(input(\"Enter your choice: \")) - 1\n",
    "\n",
    "if 0 <= choice < len(conversion_options):\n",
    "    conversion_factors = [12, 1/3, 1/5280, 304.8, 30.48, 0.3048, 0.0003048]\n",
    "    converted_length = length_feet * conversion_factors[choice]\n",
    "    conversion_unit = conversion_options[choice]\n",
    "    print(f\"{length_feet} feet is {converted_length} {conversion_unit}\")\n",
    "else:\n",
    "    print(\"Invalid choice.\")"
   ]
  }
 ],
 "metadata": {
  "kernelspec": {
   "display_name": "Python 3",
   "language": "python",
   "name": "python3"
  },
  "language_info": {
   "codemirror_mode": {
    "name": "ipython",
    "version": 3
   },
   "file_extension": ".py",
   "mimetype": "text/x-python",
   "name": "python",
   "nbconvert_exporter": "python",
   "pygments_lexer": "ipython3",
   "version": "3.7.6"
  }
 },
 "nbformat": 4,
 "nbformat_minor": 4
}
