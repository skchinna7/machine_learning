{
 "cells": [
  {
   "cell_type": "markdown",
   "metadata": {},
   "source": [
    "1. Ramesh's basic salary is input through the keyboard. His dearness allowance is 40% of basic salary, and house rent allowance is 20% of basic salary. Write a program to calculate his gross salary."
   ]
  },
  {
   "cell_type": "code",
   "execution_count": 1,
   "metadata": {},
   "outputs": [
    {
     "name": "stdout",
     "output_type": "stream",
     "text": [
      "Enter your basic salary:10000\n",
      "16000.0\n"
     ]
    }
   ],
   "source": [
    "Basic = eval(input(\"Enter your basic salary:\"))\n",
    "\n",
    "HRA = Basic*0.20\n",
    "\n",
    "DA = Basic*0.40\n",
    "\n",
    "gross_salary = Basic+HRA+DA\n",
    "\n",
    "print(gross_salary)"
   ]
  },
  {
   "cell_type": "markdown",
   "metadata": {},
   "source": [
    "2. The distance between two cities (in km.) is input through the keyboard. Write a program to convert and print this distance in meters, feet, inches and centimeters."
   ]
  },
  {
   "cell_type": "code",
   "execution_count": 2,
   "metadata": {},
   "outputs": [
    {
     "name": "stdout",
     "output_type": "stream",
     "text": [
      "enter the distance between two cities in kilometers:5000\n",
      "Distance between two cities in meter is: 5000000\n",
      "Distance between two cities in centimeters is: 500000000\n",
      "Distance between two cities in feet is: 15240000000.0\n",
      "Distance between two cities in inches is: 182880000000.0\n"
     ]
    }
   ],
   "source": [
    "km = eval(input(\"enter the distance between two cities in kilometers:\"))\n",
    "\n",
    "meters = (km*1000)\n",
    "cent = (meters*100)\n",
    "feet = (cent*30.48)\n",
    "inches = (feet*12)\n",
    "\n",
    "print(\"Distance between two cities in meter is:\", meters)\n",
    "print(\"Distance between two cities in centimeters is:\", cent)\n",
    "print(\"Distance between two cities in feet is:\", feet)\n",
    "print(\"Distance between two cities in inches is:\", inches)"
   ]
  },
  {
   "cell_type": "markdown",
   "metadata": {},
   "source": [
    "3. If the marks obtained by a student in five different subjects are input throught the keyboard, find out the aggregate marks and percentage marks obtained by the student. Assume that the maximum marks that can be obtained by a student in each subject is 100."
   ]
  },
  {
   "cell_type": "code",
   "execution_count": 3,
   "metadata": {},
   "outputs": [
    {
     "name": "stdout",
     "output_type": "stream",
     "text": [
      "enter the subject1 marks:30\n",
      "enter the subject2 marks:40\n",
      "enter the subject3 marks:50\n",
      "enter the subject4 marks:60\n",
      "enter the subject5 marks:70\n",
      "Aggregate Marks: 194.0\n",
      "250\n",
      "Percentage Marks: 50.0\n"
     ]
    }
   ],
   "source": [
    "sub1 =eval(input(\"enter the subject1 marks:\"))\n",
    "sub2 =eval(input(\"enter the subject2 marks:\"))\n",
    "sub3 =eval(input(\"enter the subject3 marks:\"))\n",
    "sub4 =eval(input(\"enter the subject4 marks:\"))\n",
    "sub5 =eval(input(\"enter the subject5 marks:\"))\n",
    "\n",
    "aggregate_marks = sub1+sub2+sub3+sub4+sub5 / 5\n",
    "total = sub1+sub2+sub3+sub4+sub5\n",
    "percentage_marks = (total / 500)*100\n",
    "\n",
    "print(\"Aggregate Marks:\", aggregate_marks)\n",
    "print(total)\n",
    "print(\"Percentage Marks:\", percentage_marks)"
   ]
  },
  {
   "cell_type": "markdown",
   "metadata": {},
   "source": [
    "4. Temperature of a city in Fahrenheit degrees is input through the keyboard. Write a program to convert this tempaerature into centigrades degrees"
   ]
  },
  {
   "cell_type": "code",
   "execution_count": 7,
   "metadata": {},
   "outputs": [
    {
     "name": "stdout",
     "output_type": "stream",
     "text": [
      "enter a temperature of a city in fahrenheit degrees: 72\n",
      "Temperature in Celisus is: \n",
      "22.22222222222222\n"
     ]
    }
   ],
   "source": [
    "Fah = eval(input(\"enter a temperature of a city in fahrenheit degrees: \"))\n",
    "            \n",
    "celsius = ((Fah-32)*5)/9\n",
    "\n",
    "print(\"Temperature in Celisus is: \")\n",
    "print(celsius)"
   ]
  },
  {
   "cell_type": "markdown",
   "metadata": {},
   "source": [
    "5. The lenght & breadth of a rectangle and radius of a circle are input through the keyboard. Write a program to calculate the area & perimeter of the rectangle, and the area & circumference of the circle."
   ]
  },
  {
   "cell_type": "code",
   "execution_count": 8,
   "metadata": {},
   "outputs": [
    {
     "name": "stdout",
     "output_type": "stream",
     "text": [
      "Enter a length of the rectangle:5\n",
      "Enter the breadth of the rectangle:6\n",
      "enter a radius of a circle:4\n",
      "Area of rectangle: 30\n",
      "perimeter of rectangle: 22\n",
      "50.24\n",
      "25.12\n"
     ]
    }
   ],
   "source": [
    "length = eval(input(\"Enter a length of the rectangle:\"))\n",
    "breadth = eval(input(\"Enter the breadth of the rectangle:\"))\n",
    "radius = eval(input(\"enter a radius of a circle:\"))\n",
    "\n",
    "aor = length * breadth ## aor = area of rectangle\n",
    "por = 2 *(length + breadth) ## por = perimeter of rectangle\n",
    "\n",
    "print(\"Area of rectangle: {}\".format(aor))\n",
    "print(\"perimeter of rectangle:\",por)\n",
    "\n",
    "aoc = 3.14 * radius * radius\n",
    "coc = 2 * 3.14 * radius\n",
    "\n",
    "print(aoc)\n",
    "print(coc)"
   ]
  },
  {
   "cell_type": "markdown",
   "metadata": {},
   "source": [
    "6. Two numbers are input through the keyboard into two locations C and D. Write a program to interchange the contents of C and D."
   ]
  },
  {
   "cell_type": "code",
   "execution_count": 9,
   "metadata": {},
   "outputs": [
    {
     "name": "stdout",
     "output_type": "stream",
     "text": [
      "enter value of C:10\n",
      "enter value of D:20\n",
      "Before interchange C= 10 D= 20\n",
      "After Interchange C= 20 D= 10\n"
     ]
    }
   ],
   "source": [
    "C = eval(input(\"enter value of C:\"))\n",
    "D = eval(input(\"enter value of D:\"))\n",
    "print(\"Before interchange C=\", C, \"D=\",D)\n",
    "temp = C\n",
    "C = D\n",
    "D = temp\n",
    "print(\"After Interchange C=\", C, \"D=\",D)"
   ]
  },
  {
   "cell_type": "markdown",
   "metadata": {},
   "source": [
    "7. If a five-digit number is input through the keyboard, write a program to reverse the number."
   ]
  },
  {
   "cell_type": "code",
   "execution_count": 10,
   "metadata": {},
   "outputs": [
    {
     "name": "stdout",
     "output_type": "stream",
     "text": [
      "Enter a number to reverse a number:12345\n",
      "Reverse of entered number is 54321\n"
     ]
    }
   ],
   "source": [
    "num = eval(input(\"Enter a number to reverse a number:\"))\n",
    "\n",
    "rev = 0\n",
    "while(num!= 0):\n",
    "    rev = rev * 10\n",
    "    rev = rev + num % 10\n",
    "    num = num // 10\n",
    "print(\"Reverse of entered number is {}\".format(rev))"
   ]
  },
  {
   "cell_type": "markdown",
   "metadata": {},
   "source": [
    "8. If a four-digit number is input through the keyboard, write a program to obtain the sum of the first and last digit of this number."
   ]
  },
  {
   "cell_type": "code",
   "execution_count": 11,
   "metadata": {},
   "outputs": [
    {
     "name": "stdout",
     "output_type": "stream",
     "text": [
      "Enter a four-digit number: 2546\n",
      "Sum of the first and last digit of this number: 8\n"
     ]
    }
   ],
   "source": [
    "number = eval(input(\"Enter a four-digit number: \"))\n",
    "\n",
    "first_digit = number // 1000\n",
    "\n",
    "last_digit = number % 10\n",
    "\n",
    "sum_of_digits = first_digit + last_digit\n",
    "\n",
    "print(\"Sum of the first and last digit of this number: {}\".format(sum_of_digits))"
   ]
  },
  {
   "cell_type": "markdown",
   "metadata": {},
   "source": [
    "9. In a town, the percentage of men is 52. The percentage of total literacy is 48. If total percentage of literate men is 35 of the total population. write a program to find the total number of illiterate men and women if the population of the town is 80,000."
   ]
  },
  {
   "cell_type": "code",
   "execution_count": 14,
   "metadata": {},
   "outputs": [
    {
     "name": "stdout",
     "output_type": "stream",
     "text": [
      "Total number of men population: 41600.0 \n",
      "Total number of women population: 38400.0 \n",
      "Total number of literate men: 28000.0 \n",
      "Total number of literate women: 10400.0 \n",
      "Total number of illiterate men: 13600.0\n",
      "Total number of illiterate women: 28000.0\n"
     ]
    }
   ],
   "source": [
    "# Population: 80000\n",
    "# percentage of men: 52%\n",
    "# Percentage of literacy: 48%\n",
    "# Percentage of literate men: 35%\n",
    "\n",
    "population = 80000\n",
    "\n",
    "men_percentage = 52\n",
    "men_count = (men_percentage / 100) * population\n",
    "\n",
    "women_count = population - men_count\n",
    "\n",
    "literate_men_percentage = 35\n",
    "#literate_men_count = (literate_men_percentage/ 100) * population\n",
    "literate_men_count = population * literate_men_percentage / 100\n",
    "literate_women_count = (48 / 100) * population - literate_men_count\n",
    "\n",
    "illiterate_men_count = men_count - literate_men_count\n",
    "\n",
    "illiterate_women_count = women_count - literate_women_count\n",
    "\n",
    "print(\"Total number of men population: {} \".format(men_count))\n",
    "print(\"Total number of women population: {} \".format(women_count))\n",
    "print(\"Total number of literate men: {} \".format(literate_men_count))\n",
    "print(\"Total number of literate women: {} \".format(literate_women_count))\n",
    "\n",
    "print(\"Total number of illiterate men: {}\".format(illiterate_men_count))\n",
    "print(\"Total number of illiterate women: {}\".format(illiterate_women_count))\n"
   ]
  },
  {
   "cell_type": "markdown",
   "metadata": {},
   "source": [
    "10. A cashier has currency notes of denominations 10, 50 and 100. If the amount to be withdrawn is input through the keyboard in hundreds. find the total number of currency notes of each denomination the cashier will have to give to the withdrawer."
   ]
  },
  {
   "cell_type": "code",
   "execution_count": 15,
   "metadata": {},
   "outputs": [
    {
     "name": "stdout",
     "output_type": "stream",
     "text": [
      "Enter the amount to be withdrawn in hundreds: 500\n",
      "Number of 100 currency notes: 5\n",
      "Number of 50 currency notes: 0\n",
      "Number of 10 currency notes: 0\n"
     ]
    }
   ],
   "source": [
    "hundreds = int(input(\"Enter the amount to be withdrawn in hundreds: \"))\n",
    "\n",
    "notes_100 = 0\n",
    "notes_50 = 0\n",
    "notes_10 = 0\n",
    "\n",
    "if hundreds >= 100:\n",
    "    notes_100 = hundreds // 100\n",
    "    hundreds %= 100\n",
    "    \n",
    "if hundreds >= 50:\n",
    "  notes_50 = hundreds // 50\n",
    "  hundreds %= 50\n",
    "\n",
    "if hundreds >= 10:\n",
    "  notes_10 = hundreds // 10\n",
    "\n",
    "print(\"Number of 100 currency notes:\", notes_100)\n",
    "print(\"Number of 50 currency notes:\", notes_50)\n",
    "print(\"Number of 10 currency notes:\", notes_10)\n"
   ]
  }
 ],
 "metadata": {
  "kernelspec": {
   "display_name": "Python 3",
   "language": "python",
   "name": "python3"
  },
  "language_info": {
   "codemirror_mode": {
    "name": "ipython",
    "version": 3
   },
   "file_extension": ".py",
   "mimetype": "text/x-python",
   "name": "python",
   "nbconvert_exporter": "python",
   "pygments_lexer": "ipython3",
   "version": "3.7.6"
  }
 },
 "nbformat": 4,
 "nbformat_minor": 4
}
