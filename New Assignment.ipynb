{
 "cells": [
  {
   "cell_type": "markdown",
   "metadata": {},
   "source": [
    "Assignment 1 \n",
    "\n",
    "1. Ask the user to enter a number. Print out the square of the number but use the sep optional argument to print it out in a full sentence that ends in 3 period.\n",
    "\n",
    "Sample output is shown below\n",
    "\n",
    "Enter a number : 5\n",
    "\n",
    "The square of 5 is 25.\n"
   ]
  },
  {
   "cell_type": "code",
   "execution_count": 16,
   "metadata": {},
   "outputs": [
    {
     "name": "stdout",
     "output_type": "stream",
     "text": [
      "Enter a number:5\n",
      "The square of 5 is 25.\n"
     ]
    }
   ],
   "source": [
    "num1 = int(input(\"Enter a number:\"))\n",
    "num2 = num1*num1\n",
    "print(\"The square of {} is {}\".format(num1, num2))\n",
    "\n",
    "#sep is in print "
   ]
  },
  {
   "cell_type": "markdown",
   "metadata": {},
   "source": [
    "2. Ask the user to enter a number x. Use the sep optional argument to print out x, 2x, 3x, 4x, and 5x, each separated by three dashes, like below. \n",
    "\n",
    "Enter a number: 7\n",
    "7----14---21---28---35"
   ]
  },
  {
   "cell_type": "code",
   "execution_count": 21,
   "metadata": {},
   "outputs": [
    {
     "name": "stdout",
     "output_type": "stream",
     "text": [
      "enter a number:7\n",
      "(7, 14, 21, 28, 35)\n"
     ]
    }
   ],
   "source": [
    "num3 = eval(input(\"enter a number:\"))\n",
    "\n",
    "sqrt = num3, num3*2, num3*3, num3*4, num3*5\n",
    "\n",
    "print(sqrt,sep='---')"
   ]
  },
  {
   "cell_type": "markdown",
   "metadata": {},
   "source": [
    "3. Write a program that asks the user for a weight in kilograms and converts it to pounds. There are 2.2 pounds in a kilogram"
   ]
  },
  {
   "cell_type": "code",
   "execution_count": 1,
   "metadata": {},
   "outputs": [
    {
     "name": "stdout",
     "output_type": "stream",
     "text": [
      "enter a weight to convert it into pounds:5\n",
      "11.0\n"
     ]
    }
   ],
   "source": [
    "weight = eval(input(\"enter a weight to convert it into pounds:\"))\n",
    "\n",
    "pounds = weight * 2.2\n",
    "\n",
    "print(pounds)"
   ]
  },
  {
   "cell_type": "markdown",
   "metadata": {},
   "source": [
    "4. write a program that asks the user to enter three numbers (use three separate input statements). Create variables called total and average that holds the sum and average of the three numbers and print out the values of total and average\n"
   ]
  },
  {
   "cell_type": "code",
   "execution_count": 10,
   "metadata": {},
   "outputs": [
    {
     "name": "stdout",
     "output_type": "stream",
     "text": [
      "enter a number 1:20\n",
      "enter a number 2:30\n",
      "enter a number 3:40\n",
      "90\n",
      "63.333333333333336\n"
     ]
    }
   ],
   "source": [
    "a = eval(input(\"enter a number 1:\"))\n",
    "b = eval(input(\"enter a number 2:\"))\n",
    "c = eval(input(\"enter a number 3:\"))\n",
    "total = a + b + c\n",
    "average = a+b+c/3\n",
    "print(\"Total: \", total)\n",
    "print(\"Average\",average)"
   ]
  },
  {
   "cell_type": "markdown",
   "metadata": {},
   "source": [
    "5. A lot of cell phones have tip calculators. Write one. Ask the user for the price of the meal and the percent tip they want to leave. Then print both the tip amount and the total bill with the tip included."
   ]
  },
  {
   "cell_type": "code",
   "execution_count": 12,
   "metadata": {},
   "outputs": [
    {
     "name": "stdout",
     "output_type": "stream",
     "text": [
      "enter the price of the meal:500\n",
      "enter the tip of the meal:5\n",
      "The price of the meal: 500\n",
      "The tip of the meal: 5\n",
      "The total bill of the meal with tip is: 525.0\n"
     ]
    }
   ],
   "source": [
    "price = eval(input(\"enter the price of the meal:\"))\n",
    "tip = eval(input(\"enter the tip of the meal:\"))\n",
    "\n",
    "percent = price*(tip/100)\n",
    "\n",
    "total_bill = price + percent\n",
    "\n",
    "print(\"The price of the meal: {}\".format(price))\n",
    "print(\"The tip of the meal: {}\".format(tip))\n",
    "print(\"The total bill of the meal with tip is: {}\".format(total_bill))"
   ]
  }
 ],
 "metadata": {
  "kernelspec": {
   "display_name": "Python 3",
   "language": "python",
   "name": "python3"
  },
  "language_info": {
   "codemirror_mode": {
    "name": "ipython",
    "version": 3
   },
   "file_extension": ".py",
   "mimetype": "text/x-python",
   "name": "python",
   "nbconvert_exporter": "python",
   "pygments_lexer": "ipython3",
   "version": "3.7.6"
  }
 },
 "nbformat": 4,
 "nbformat_minor": 4
}
