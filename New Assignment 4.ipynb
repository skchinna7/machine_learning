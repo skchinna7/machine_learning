{
 "cells": [
  {
   "cell_type": "markdown",
   "metadata": {},
   "source": [
    "#### Problem 1\n",
    "Suppose that a Firm pays its employee at the rate of $12 per hour. An employee has worked for 37 hours. How much should the firm pay the employee? (Do normal way directly takes the input)"
   ]
  },
  {
   "cell_type": "code",
   "execution_count": 40,
   "metadata": {},
   "outputs": [
    {
     "name": "stdout",
     "output_type": "stream",
     "text": [
      "How many hours employee has worked:5\n",
      "Employee has worked_hours is 5 and pay_amount is 60\n"
     ]
    }
   ],
   "source": [
    "worked_hours=eval(input(\"How many hours employee has worked:\"))\n",
    "\n",
    "#rate per hour is 12\n",
    "\n",
    "pay_amount = 12 * worked_hours\n",
    "\n",
    "print(\"Employee has worked_hours is {} and pay_amount is {}\".format(worked_hours, pay_amount,sep=\"#\"))"
   ]
  },
  {
   "cell_type": "markdown",
   "metadata": {},
   "source": [
    "#### Problem 2\n",
    "How about prompting the user for the number of hours and using the input value to compute the total pay? (Above problem use eval concept and sep concept)\n"
   ]
  },
  {
   "cell_type": "code",
   "execution_count": 48,
   "metadata": {},
   "outputs": [
    {
     "name": "stdout",
     "output_type": "stream",
     "text": [
      "Number of hours: 5\n",
      "Number of hours 5 and pay_amount is 60\n"
     ]
    }
   ],
   "source": [
    "number_of_hours = eval(input(\"Number of hours: \"))\n",
    "\n",
    "total_pay = 12 * number_of_hours\n",
    "print(\"Number of hours {} and pay_amount is {}\".format(number_of_hours, total_pay,sep=\"\"))"
   ]
  },
  {
   "cell_type": "markdown",
   "metadata": {},
   "source": [
    "#### Problem-3\n",
    "For a certain academic subject the students are evaluated based on five tests -\n",
    "*\tQuiz 1 (20 marks - 10% Weight),\n",
    "*\tQuiz 2 (20 marks - 10% Weight),\n",
    "*\tClass test (50 marks - 25% Weight),\n",
    "*\tAssignment (100 marks - 25% weight) and\n",
    "*\tProject (200 marks - 30% weight)\n",
    "\n",
    "\n",
    "Design a program that will prompt the user for marks for each of the tests and calculate the overall marks (out of 100)."
   ]
  },
  {
   "cell_type": "code",
   "execution_count": 26,
   "metadata": {},
   "outputs": [
    {
     "name": "stdout",
     "output_type": "stream",
     "text": [
      "Enter the marks for quiz 1: 20\n",
      "Enter the marks for quiz 2: 20\n",
      "Enter the marks for the class test: 50\n",
      "Enter the marks for the assignment: 100\n",
      "Enter the marks for the project: 200\n",
      "The overall marks are: 101.5\n"
     ]
    }
   ],
   "source": [
    "#\tQuiz 1 (20 marks - 10% Weight),\n",
    "#\tQuiz 2 (20 marks - 10% Weight),\n",
    "#\tClass test (50 marks - 25% Weight),\n",
    "#\tAssignment (100 marks - 25% weight) and\n",
    "#\tProject (200 marks - 30% weight).\n",
    "\n",
    "def calculate_overall_marks(quiz1, quiz2, class_test, assignment, project):\n",
    "    \"\"\"Calculates the overall marks for a student.\"\"\"\n",
    "\n",
    "    quiz_weight = 0.1\n",
    "    class_test_weight = 0.25\n",
    "    assignment_weight = 0.25\n",
    "    project_weight = 0.3\n",
    "\n",
    "    overall_marks = quiz1 * quiz_weight + quiz2 * quiz_weight + class_test * class_test_weight \\\n",
    "                + assignment * assignment_weight + project * project_weight\n",
    "\n",
    "    return round(overall_marks, 2)\n",
    "\n",
    "\n",
    "def main():\n",
    "    quiz1 = float(input(\"Enter the marks for quiz 1: \"))\n",
    "    quiz2 = float(input(\"Enter the marks for quiz 2: \"))\n",
    "    class_test = float(input(\"Enter the marks for the class test: \"))\n",
    "    assignment = float(input(\"Enter the marks for the assignment: \"))\n",
    "    project = float(input(\"Enter the marks for the project: \"))\n",
    "\n",
    "    overall_marks = calculate_overall_marks(quiz1, quiz2, class_test, assignment, project)\n",
    "\n",
    "    print(\"The overall marks are:\", overall_marks)\n",
    "\n",
    "\n",
    "if __name__ == \"__main__\":\n",
    "      main()"
   ]
  },
  {
   "cell_type": "markdown",
   "metadata": {},
   "source": [
    "#### Problem-4\n",
    "If a five-digit number is input through the keyboard, write a program to calculate the sum of its digits."
   ]
  },
  {
   "cell_type": "code",
   "execution_count": 2,
   "metadata": {},
   "outputs": [
    {
     "name": "stdout",
     "output_type": "stream",
     "text": [
      "Enter a five-digit number: 54321\n",
      "Sum of the first and last digit of this number: 6\n"
     ]
    }
   ],
   "source": [
    "number = eval(input(\"Enter a five-digit number: \"))\n",
    "\n",
    "first_digit = number // 10000\n",
    "\n",
    "last_digit = number % 10\n",
    "\n",
    "sum_of_digits = first_digit + last_digit\n",
    "\n",
    "print(\"Sum of the first and last digit of this number: {}\".format(sum_of_digits))"
   ]
  },
  {
   "cell_type": "markdown",
   "metadata": {},
   "source": [
    "#### Problem-5\n",
    "If a five-digit number is input through the keyboard, write a program to print a new number by adding one to each of its digits. For example if the number that is input is 12371 then the output should be displayed as 23482."
   ]
  },
  {
   "cell_type": "code",
   "execution_count": 3,
   "metadata": {},
   "outputs": [
    {
     "name": "stdout",
     "output_type": "stream",
     "text": [
      "Enter a five-digit number: 12371\n",
      "New number: 23482\n"
     ]
    }
   ],
   "source": [
    "def increment_digits(number):\n",
    "    new_number = 0\n",
    "    multiplier = 1\n",
    "\n",
    "    for _ in range(5):\n",
    "        digit = number % 10\n",
    "        digit = (digit + 1) % 10\n",
    "        new_number = new_number + digit * multiplier\n",
    "        multiplier *= 10\n",
    "        number //= 10\n",
    "\n",
    "    return new_number\n",
    "\n",
    "\n",
    "if __name__ == \"__main__\":\n",
    "    try:\n",
    "        input_number = int(input(\"Enter a five-digit number: \"))\n",
    "\n",
    "        if 10000 <= input_number <= 99999:\n",
    "            result = increment_digits(input_number)\n",
    "            print(\"New number:\", result)\n",
    "        else:\n",
    "            print(\"Please enter a valid five-digit number.\")\n",
    "    except ValueError:\n",
    "        print(\"Invalid input. Please enter a valid integer.\")"
   ]
  },
  {
   "cell_type": "markdown",
   "metadata": {},
   "source": [
    "#### Problem-6: (Use conditional statements)\n",
    "\n",
    "\n",
    "**Recall the problem:**\n",
    "\n",
    "\n",
    "For a certain academic subject the students are evaluated based on five tests -\n",
    "\n",
    "\n",
    "*\tQuiz 1 (20 marks - 10% Weight),\n",
    "*\tQuiz 2 (20 marks - 10% Weight),\n",
    "*\tClass test (50 marks - 25% Weight),\n",
    "*\tAssignment (100 marks - 25% weight) and\n",
    "*\tProject (200 marks - 30% weight).\n",
    "\n",
    "\n",
    "Design a program that will prompt the user for marks for each of the tests and calculate the overall marks (out of 100).\n",
    "\n",
    "\n",
    "#### Add an extension to the problem to display grades: Display the grades of students using the following table:\n",
    "\n",
    "\n",
    "Score\tGrade\t\n",
    ">= 60\t\tFirst Class\n",
    ">= 40\t\tSecond Class\n",
    "< 40\t\tFail"
   ]
  },
  {
   "cell_type": "code",
   "execution_count": 34,
   "metadata": {},
   "outputs": [
    {
     "name": "stdout",
     "output_type": "stream",
     "text": [
      "Enter the marks for quiz 1: 20\n",
      "Enter the marks for quiz 2: 20\n",
      "Enter the marks for the class test: 40\n",
      "Enter the marks for the assignment: 100\n",
      "Enter the marks for the project: 200\n",
      "The overall marks are: 99.0\n",
      "The grade is: First Class\n"
     ]
    }
   ],
   "source": [
    "def calculate_overall_marks(quiz1, quiz2, class_test, assignment, project):\n",
    "    \"\"\"Calculates the overall marks for a student.\n",
    "\n",
    "    Args:\n",
    "    quiz1: The marks for quiz 1.\n",
    "    quiz2: The marks for quiz 2.\n",
    "    class_test: The marks for the class test.\n",
    "    assignment: The marks for the assignment.\n",
    "    project: The marks for the project.\n",
    "\n",
    "    Returns:\n",
    "    The overall marks (out of 100).\n",
    "    \"\"\"\n",
    "\n",
    "    quiz_weight = 0.1\n",
    "    class_test_weight = 0.25\n",
    "    assignment_weight = 0.25\n",
    "    project_weight = 0.3\n",
    "\n",
    "    overall_marks = quiz1 * quiz_weight + quiz2 * quiz_weight + class_test * class_test_weight \\\n",
    "                + assignment * assignment_weight + project * project_weight\n",
    "\n",
    "    return round(overall_marks, 2)\n",
    "\n",
    "\n",
    "def calculate_grade(overall_marks):\n",
    "\n",
    "    if overall_marks >= 60:\n",
    "        grade = \"First Class\"\n",
    "    elif overall_marks >= 40:\n",
    "        grade = \"Second Class\"\n",
    "    else:\n",
    "        grade = \"Fail\"\n",
    "\n",
    "    return grade\n",
    "\n",
    "\n",
    "def main():\n",
    "    quiz1 = float(input(\"Enter the marks for quiz 1: \"))\n",
    "    quiz2 = float(input(\"Enter the marks for quiz 2: \"))\n",
    "    class_test = float(input(\"Enter the marks for the class test: \"))\n",
    "    assignment = float(input(\"Enter the marks for the assignment: \"))\n",
    "    project = float(input(\"Enter the marks for the project: \"))\n",
    "\n",
    "    overall_marks = calculate_overall_marks(quiz1, quiz2, class_test, assignment, project)\n",
    "    grade = calculate_grade(overall_marks)\n",
    "\n",
    "    print(\"The overall marks are:\", overall_marks)\n",
    "    print(\"The grade is:\", grade)\n",
    "\n",
    "\n",
    "if __name__ == \"__main__\":\n",
    "    main()\n"
   ]
  },
  {
   "cell_type": "markdown",
   "metadata": {},
   "source": [
    "#### Problem-7: (Use conditional statements)\n",
    "\n",
    "\n",
    "** Recall the problem:**\n",
    "\n",
    "\n",
    "How about prompting the user for the number of hours and using the input value to compute the total pay? "
   ]
  },
  {
   "cell_type": "code",
   "execution_count": 4,
   "metadata": {},
   "outputs": [
    {
     "name": "stdout",
     "output_type": "stream",
     "text": [
      "Enter the number of hours worked: 12\n",
      "Total pay: $ 144.0\n"
     ]
    }
   ],
   "source": [
    "def calculate_total_pay(hours_worked, hourly_rate):\n",
    "    return hours_worked * hourly_rate\n",
    "\n",
    "\n",
    "if __name__ == \"__main__\":\n",
    "    try:\n",
    "        hours_worked = float(input(\"Enter the number of hours worked: \"))\n",
    "\n",
    "        if hours_worked >= 0:\n",
    "            hourly_rate = 12  # Assuming hourly rate is $10 per hour\n",
    "            total_pay = calculate_total_pay(hours_worked, hourly_rate)\n",
    "            print(\"Total pay: $\", total_pay)\n",
    "        else:\n",
    "            print(\"Please enter a valid number of hours (non-negative).\")\n",
    "    except ValueError:\n",
    "        print(\"Invalid input. Please enter a valid number.\")"
   ]
  },
  {
   "cell_type": "markdown",
   "metadata": {},
   "source": [
    "#### Problem-8\n",
    "** try & except **\n",
    "Rewrite the pay program (refer problem 2) using try and expect so that the program handles non- numeric input gracefully by printing a message and exiting the program. The following shows two executions of the program:\n",
    "\n",
    "\n",
    "Enter hours: 20\n",
    " \tEnter rate: nine\n",
    " \tError, please enter numeric input"
   ]
  },
  {
   "cell_type": "code",
   "execution_count": 5,
   "metadata": {},
   "outputs": [
    {
     "name": "stdout",
     "output_type": "stream",
     "text": [
      "Enter the number of hours worked: 20\n",
      "Enter the hourly rate: 9\n",
      "Total pay: $ 180.0\n"
     ]
    }
   ],
   "source": [
    "def calculate_total_pay1(hours_worked, hourly_rate):\n",
    "    return hours_worked * hourly_rate\n",
    "\n",
    "\n",
    "if __name__ == \"__main__\":\n",
    "    try:\n",
    "        hours_input = input(\"Enter the number of hours worked: \")\n",
    "        hours_worked = float(hours_input)\n",
    "\n",
    "        rate_input = input(\"Enter the hourly rate: \")\n",
    "        hourly_rate = float(rate_input)\n",
    "\n",
    "        total_pay = calculate_total_pay1(hours_worked, hourly_rate)\n",
    "        print(\"Total pay: $\", total_pay)\n",
    "    except ValueError:\n",
    "        print(\"Error, please enter numeric input.\")"
   ]
  },
  {
   "cell_type": "markdown",
   "metadata": {},
   "source": [
    "#### Problem-9(Use conditional statements)\n",
    "\n",
    "\n",
    "Write a program that asks the user to enter a length in centimeters. If the user enters a negative length, the program should tell the user that the entry is invalid. Otherwise, the program should convert the length to inches and print out the result. There are 2.54 centimeters in an inch."
   ]
  },
  {
   "cell_type": "code",
   "execution_count": 7,
   "metadata": {},
   "outputs": [
    {
     "name": "stdout",
     "output_type": "stream",
     "text": [
      "Enter a number in centimeters:-5\n",
      "The entry is invalid\n"
     ]
    }
   ],
   "source": [
    "length = eval(input(\"Enter a number in centimeters:\"))\n",
    "\n",
    "if length < 0:\n",
    "    print(\"The entry is invalid\")\n",
    "else:\n",
    "    inch = length * 2.54\n",
    "    print(inch)\n"
   ]
  },
  {
   "cell_type": "markdown",
   "metadata": {},
   "source": [
    "#### Problem-10(Use conditional statements)\n",
    "Ask the user for a temperature. Then ask them what units, Celsius or Fahrenheit, the temperature is in. Your program should convert the temperature to the other unit. The conversions are F = 9 5 C + 32 and C = 5 9 (F − 32)."
   ]
  },
  {
   "cell_type": "code",
   "execution_count": 24,
   "metadata": {},
   "outputs": [
    {
     "name": "stdout",
     "output_type": "stream",
     "text": [
      "Enter the temperature: 212\n",
      "Enter the unit (Celsius or Fahrenheit): Fahrenheit\n",
      "212.0 Fahrenheit is equal to 100.0 Celsius.\n"
     ]
    }
   ],
   "source": [
    "def celsius_to_fahrenheit(celsius):\n",
    "    return (celsius * 9/5) + 32\n",
    "\n",
    "def fahrenheit_to_celsius(fahrenheit):\n",
    "    return (fahrenheit - 32) * 5/9\n",
    "\n",
    "if __name__ == \"__main__\":\n",
    "    try:\n",
    "        temperature = eval(input(\"Enter the temperature: \"))\n",
    "        unit = input(\"Enter the unit (Celsius or Fahrenheit): \")\n",
    "\n",
    "        if unit == \"Celsius\" or unit == \"celsius\":\n",
    "            converted_temperature = celsius_to_fahrenheit(temperature)\n",
    "            print(\"{} Celsius is equal to {} Fahrenheit.\".format(temperature, converted_temperature))\n",
    "        elif unit == \"Fahrenheit\" or unit == \"fahrenheit\":\n",
    "            converted_temperature = fahrenheit_to_celsius(temperature)\n",
    "            print(\"{} Fahrenheit is equal to {} Celsius.\".format(temperature, converted_temperature))\n",
    "        else:\n",
    "            print(\"Invalid unit input. Please enter 'Celsius' or 'Fahrenheit'.\")\n",
    "\n",
    "    except ValueError:\n",
    "        print(\"Invalid input. Please enter a valid numeric temperature.\")\n"
   ]
  },
  {
   "cell_type": "markdown",
   "metadata": {},
   "source": [
    "#### Problem-11(Use conditional statements)\n",
    "Ask the user to enter a temperature in Celsius. The program should print a message based on the temperature:\n",
    "•\tIf the temperature is less than -273.15, print that the temperature is invalid because it is below absolute zero.\n",
    "•\tIf it is exactly -273.15, print that the temperature is absolute 0.\n",
    "•\tIf the temperature is between -273.15 and 0, print that the temperature is below freezing.\n",
    "•\tIf it is 0, print that the temperature is at the freezing point.\n",
    "•\tIf it is between 0 and 100, print that the temperature is in the normal range.\n",
    "•\tIf it is 100, print that the temperature is at the boiling point.\n",
    "•\tIf it is above 100, print that the temperature is above the boiling point."
   ]
  },
  {
   "cell_type": "code",
   "execution_count": 49,
   "metadata": {},
   "outputs": [
    {
     "name": "stdout",
     "output_type": "stream",
     "text": [
      "Enter the temperature in celsius:273\n",
      "the temperature is above the boiling point.\n"
     ]
    }
   ],
   "source": [
    "temperature = eval(input(\"Enter the temperature in celsius:\"))\n",
    "\n",
    "try:\n",
    "    if temperature < -273.15:\n",
    "        print(\"the temperature is invalid. because it is below absolute zero.\")\n",
    "    elif temperature == -273.15:\n",
    "        print(\"the temperature is absolute 0.\")\n",
    "    elif temperature ==-273.15 or temperature == 0:\n",
    "        print(\"the temperature is below freezing.\")\n",
    "    elif temperature == 0:\n",
    "        print(\"the temperature is at the freezing point.\")\n",
    "    elif temperature == 0 or temperature == 100:\n",
    "        print(\"the temperature is in the normal range.\")\n",
    "    elif temperature == 100:\n",
    "        print(\"the temperature is at the boiling point.\")\n",
    "    else:\n",
    "        print(\"the temperature is above the boiling point.\")\n",
    "        \n",
    "except Exception as e:\n",
    "        print(e)"
   ]
  },
  {
   "cell_type": "markdown",
   "metadata": {},
   "source": [
    "#### Problem-12(Use conditional statements)\n",
    "Write a program that asks the user how many credits they have taken. If they have taken 23 or less, print that the student is a freshman. If they have taken between 24 and 53, print that they are a sophomore. The range for juniors is 54 to 83, and for seniors it is 84 and over."
   ]
  },
  {
   "cell_type": "code",
   "execution_count": 5,
   "metadata": {},
   "outputs": [
    {
     "name": "stdout",
     "output_type": "stream",
     "text": [
      "Enter the number of credits you have taken: 84\n",
      "You are a senior.\n"
     ]
    }
   ],
   "source": [
    "def determine_academic_year(credits):\n",
    "    if credits <= 23:\n",
    "        return \"freshman\"\n",
    "    elif 24 <= credits <= 53:\n",
    "        return \"sophomore\"\n",
    "    elif 54 <= credits <= 83:\n",
    "        return \"junior\"\n",
    "    else:\n",
    "        return \"senior\"\n",
    "\n",
    "if __name__ == \"__main__\":\n",
    "    try:\n",
    "        credits_taken = int(input(\"Enter the number of credits you have taken: \"))\n",
    "\n",
    "        if credits_taken >= 0:\n",
    "            academic_year = determine_academic_year(credits_taken)\n",
    "            print(\"You are a {}.\".format(academic_year))\n",
    "        else:\n",
    "            print(\"Please enter a valid number of credits (non-negative).\")\n",
    "    except ValueError:\n",
    "        print(\"Invalid input. Please enter a valid integer.\")\n"
   ]
  },
  {
   "cell_type": "markdown",
   "metadata": {},
   "source": [
    "#### Problem-13(Use conditional statements)\n",
    "Generate a random number between 1 and 10. Ask the user to guess the number and print a message based on whether they get it right or not."
   ]
  },
  {
   "cell_type": "code",
   "execution_count": 14,
   "metadata": {},
   "outputs": [
    {
     "name": "stdout",
     "output_type": "stream",
     "text": [
      "Guess the number (between 1 and 10): 8\n",
      "Sorry, the correct number was 4. Try again!\n"
     ]
    }
   ],
   "source": [
    "import random\n",
    "\n",
    "def guess_the_number():\n",
    "    secret_number = random.randint(1, 10)\n",
    "\n",
    "    try:\n",
    "        user_guess = eval(input(\"Guess the number (between 1 and 10): \"))\n",
    "\n",
    "        if 1 <= user_guess <= 10:\n",
    "            if user_guess == secret_number:\n",
    "                print(\"Congratulations! You guessed the correct number.\")\n",
    "            else:\n",
    "                print(\"Sorry, the correct number was {}. Try again!\".format(secret_number))\n",
    "        else:\n",
    "            print(\"Invalid input. Please enter a number between 1 and 10.\")\n",
    "    except ValueError:\n",
    "        print(\"Invalid input. Please enter a valid integer.\")\n",
    "\n",
    "if __name__ == \"__main__\":\n",
    "    guess_the_number()"
   ]
  },
  {
   "cell_type": "markdown",
   "metadata": {},
   "source": [
    "#### Problem-14(Use conditional statements)\n",
    "A store charges $12 per item if you buy less than 10 items. If you buy between 10 and 99 items, the cost is $10 per item. If you buy 100 or more items, the cost is $7 per item. Write a program that asks the user how many items they are buying and prints the total cost."
   ]
  },
  {
   "cell_type": "code",
   "execution_count": 17,
   "metadata": {},
   "outputs": [
    {
     "name": "stdout",
     "output_type": "stream",
     "text": [
      "Enter the number of items you are buying: 100\n",
      "Total cost: $700\n"
     ]
    }
   ],
   "source": [
    "def calculate_total_cost(num_items):\n",
    "    if num_items < 10:\n",
    "        return num_items * 12\n",
    "    elif 10 <= num_items < 100:\n",
    "        return num_items * 10\n",
    "    else:\n",
    "        return num_items * 7\n",
    "\n",
    "if __name__ == \"__main__\":\n",
    "    try:\n",
    "        num_items = int(input(\"Enter the number of items you are buying: \"))\n",
    "\n",
    "        if num_items >= 0:\n",
    "            total_cost = calculate_total_cost(num_items)\n",
    "            print(\"Total cost: ${}\".format(total_cost))\n",
    "        else:\n",
    "            print(\"Invalid input. Please enter a non-negative number of items.\")\n",
    "    except ValueError:\n",
    "        print(\"Invalid input. Please enter a valid integer.\")\n"
   ]
  },
  {
   "cell_type": "markdown",
   "metadata": {},
   "source": [
    "#### Problem-15(Use conditional statements)\n",
    "Write a program that asks the user for two numbers and prints Close if the numbers are within .001 of each other and Not close otherwise."
   ]
  },
  {
   "cell_type": "code",
   "execution_count": 20,
   "metadata": {},
   "outputs": [
    {
     "name": "stdout",
     "output_type": "stream",
     "text": [
      "Enter the first number: 2.001\n",
      "Enter the second number: 2.002\n",
      "Close\n"
     ]
    }
   ],
   "source": [
    "def are_close(num1, num2, tolerance):\n",
    "    return abs(num1 - num2) <= tolerance\n",
    "\n",
    "if __name__ == \"__main__\":\n",
    "    try:\n",
    "        num1 = eval(input(\"Enter the first number: \"))\n",
    "        num2 = eval(input(\"Enter the second number: \"))\n",
    "        tolerance = 0.001\n",
    "\n",
    "        if are_close(num1, num2, tolerance):\n",
    "            print(\"Close\")\n",
    "        else:\n",
    "            print(\"Not close\")\n",
    "    except ValueError:\n",
    "        print(\"Invalid input. Please enter valid numeric values.\")"
   ]
  },
  {
   "cell_type": "markdown",
   "metadata": {},
   "source": [
    "#### Problem-16(Use conditional statements)\n",
    "A year is a leap year if it is divisible by 4, except that years divisible by 100 are not leap years unless\n",
    "they are also divisible by 400. Write a program that asks the user for a year and prints out whether it is a leap year or not."
   ]
  },
  {
   "cell_type": "code",
   "execution_count": 24,
   "metadata": {},
   "outputs": [
    {
     "name": "stdout",
     "output_type": "stream",
     "text": [
      "1975\n",
      "False\n"
     ]
    }
   ],
   "source": [
    "def is_leap(year):\n",
    "    leap = False\n",
    "    \n",
    "    if year % 4 == 0:\n",
    "        if year % 100 == 0:\n",
    "          if year % 400 == 0:\n",
    "            return True\n",
    "          else:\n",
    "            return False\n",
    "        else:\n",
    "          return True\n",
    "    else:\n",
    "        return False\n",
    "    # Write your logic here\n",
    "    \n",
    "    return leap\n",
    "\n",
    "year = int(input())\n",
    "print(is_leap(year))"
   ]
  },
  {
   "cell_type": "markdown",
   "metadata": {},
   "source": [
    "#### Problem-17(Use conditional statements)\n",
    "Write a program that asks the user to enter a number and prints out all the divisors of that number. [Hint: the % operator is used to tell if a number is divisible by something."
   ]
  },
  {
   "cell_type": "code",
   "execution_count": 25,
   "metadata": {},
   "outputs": [
    {
     "name": "stdout",
     "output_type": "stream",
     "text": [
      "Enter a number: 10\n",
      "Divisors of 10: [1, 2, 5, 10]\n"
     ]
    }
   ],
   "source": [
    "def find_divisors(number):\n",
    "    divisors = []\n",
    "    for i in range(1, number + 1):\n",
    "        if number % i == 0:\n",
    "            divisors.append(i)\n",
    "    return divisors\n",
    "\n",
    "if __name__ == \"__main__\":\n",
    "    try:\n",
    "        number = int(input(\"Enter a number: \"))\n",
    "\n",
    "        if number > 0:\n",
    "            divisors = find_divisors(number)\n",
    "            print(\"Divisors of {}: {}\".format(number,divisors))\n",
    "        else:\n",
    "            print(\"Please enter a positive integer.\")\n",
    "    except ValueError:\n",
    "        print(\"Invalid input. Please enter a valid integer.\")\n"
   ]
  },
  {
   "cell_type": "markdown",
   "metadata": {},
   "source": [
    "#### Problem-18(Use conditional statements)\n",
    "Write a program that asks the user for an hour between 1 and 12, asks them to enter am or pm, and asks them how many hours into the future they want to go.\n",
    "Print out what the hour will be that many hours into the future, printing am or pm as appropriate. An example is shown below.\n",
    "\n",
    "Enter hour: 8 \n",
    "\n",
    "am (1) or pm (2)? 1 \n",
    "\n",
    "How many hours ahead? 5 \n",
    "\n",
    "New hour: 1 pm"
   ]
  },
  {
   "cell_type": "code",
   "execution_count": 29,
   "metadata": {},
   "outputs": [
    {
     "name": "stdout",
     "output_type": "stream",
     "text": [
      "Enter hour (between 1 and 12): 8\n",
      "am (1) or pm (2)? 2\n",
      "How many hours ahead? 5\n",
      "New hour: 1 pm\n"
     ]
    }
   ],
   "source": [
    "def calculate_new_hour(current_hour, am_pm, hours_ahead):\n",
    "    new_hour = (current_hour + hours_ahead) % 12\n",
    "    new_am_pm = \"am\" if (am_pm == 1 and new_hour != 12) else \"pm\"\n",
    "    return new_hour, new_am_pm\n",
    "\n",
    "if __name__ == \"__main__\":\n",
    "    try:\n",
    "        current_hour = int(input(\"Enter hour (between 1 and 12): \"))\n",
    "        am_pm = int(input(\"am (1) or pm (2)? \"))\n",
    "        hours_ahead = int(input(\"How many hours ahead? \"))\n",
    "\n",
    "        if 1 <= current_hour <= 12 and (am_pm == 1 or am_pm == 2) and hours_ahead >= 0:\n",
    "            new_hour, new_am_pm = calculate_new_hour(current_hour, am_pm, hours_ahead)\n",
    "            print(\"New hour: {} {}\".format(new_hour, new_am_pm))\n",
    "        else:\n",
    "            print(\"Invalid input. Please enter valid values.\")\n",
    "    except ValueError:\n",
    "        print(\"Invalid input. Please enter a valid integer.\")"
   ]
  }
 ],
 "metadata": {
  "kernelspec": {
   "display_name": "Python 3",
   "language": "python",
   "name": "python3"
  },
  "language_info": {
   "codemirror_mode": {
    "name": "ipython",
    "version": 3
   },
   "file_extension": ".py",
   "mimetype": "text/x-python",
   "name": "python",
   "nbconvert_exporter": "python",
   "pygments_lexer": "ipython3",
   "version": "3.7.6"
  }
 },
 "nbformat": 4,
 "nbformat_minor": 4
}
