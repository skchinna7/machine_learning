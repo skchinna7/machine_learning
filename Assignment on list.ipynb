{
 "cells": [
  {
   "cell_type": "code",
   "execution_count": 1,
   "metadata": {},
   "outputs": [
    {
     "name": "stdout",
     "output_type": "stream",
     "text": [
      "['Santhanam', 'Bhattacharjee', 'Bansal', 'Chandra Shekhar', 'J Doshi', 'Shimoga Prakash', 'Akhouri', 'Nath', 'Ponna', 'Singhal', 'Gorai', 'Valdez', 'Cancel', 'BONDALAKUNTA', 'priyanka uppala', 'Nitin SHINDE', 'Chidre', 'Sahu', 'Sikka', 'Dara', 'Pattanshetti', 'Sharma', 'Latorena', 'Abhimanyu Pradhan', 'Jaiswal', 'Gupta', 'Satti', 'Kumar', 'Balakrishnan', 'M S', 'Cheerala', 'G D', 'Nikhil Reddy', 'Santos', 'Milan', 'Gupta', 'Mandal', 'Prakash Shukla', 'Naganathan', 'GAHLOT', 'Kanjilal', 'Nallagoni', 'Sahajan', 'Nelluri']\n",
      "-------------------------------------------------------------------------------\n",
      "['Jayendhran', 'Sankalan', 'Vaishnavi', 'Pavuluri', 'Hiren', 'Jeevan', 'Shreyash', 'Nupanga', 'Ramesh', 'Aditya', 'Sumit', 'Mariele Dyan Francely', 'Abigail Kyle', 'POOJITHA', 'sai', 'NIKHIL', 'Swapna', 'Swastik', 'Ankit', 'Sai Madhukar', 'Sampreet', 'Ayush', 'Zairous Jay', 'Roshankumar', 'Lehar', 'Retik', 'Phanindra Reddy', 'Manish', 'Devi Priya', 'Roshni Priya', 'Vanaja', 'Chandrashekhar', 'Madithati', 'Jeroshelle V.', 'Gerald John', 'Vivek', 'Sumit', 'Ashok', 'Siva', 'NIKHIL', 'Sourav', 'Omkar', 'Sandra', 'Chaitanya']\n",
      "-------------------------------------------------------------------------------\n",
      "['jayendhran.ms@accenture.com', 's.t.bhattacharjee@accenture.com', 'vaishnavi.a.bansal@accenture.com', 'p.a.chandra.shekhar@accenture.com', 'hiren.j.doshi@accenture.com', 'j.shimoga.prakash@accenture.com', 'shreyash.akhouri@accenture.com', 'nupanga.nath@accenture.com', 'r.ponna@accenture.com', 'aditya.d.singhal@accenture.com', 'sumit.gorai@accenture.com', 'mariele.dyan.valdez@accenture.com', 'abigail.kyle.cancel@accenture.com', 'p.bondalakunta@accenture.com', 'sai.priyanka.uppala@accenture.com', 'nikhil.nitin.shinde@accenture.com', 'swapna.chidre@accenture.com', 's.satyapragyan.sahu@accenture.com', 'ankit.sikka@accenture.com', 'sai.madhukar.dara@accenture.com', 's.pattanshetti@accenture.com', 'ayush.ad.sharma@accenture.com', 'zairous.jay.latorena@accenture.com', 'r.abhimanyu.pradhan@accenture.com', 'lehar.jaiswal@accenture.com', 'retik.gupta@accenture.com', 'phanindra.r.satti@accenture.com', 'manish.dw.kumar@accenture.com', 'devi.p.balakrishnan@accenture.com', 'roshni.priya.m.s@accenture.com', 'vanaja.cheerala@accenture.com', 'chandrashekhar.g.d@accenture.com', 'm.nikhil.reddy@accenture.com', 'jeroshelle.v.santos@accenture.com', 'gerald.john.milan@accenture.com', 'vivek.u.gupta@accenture.com', 's.sunilkumar.mandal@accenture.com', 'ashok.prakash.shukla@accenture.com', 'sivakumar.naganathan@accenture.com', 'nikhil.gahlot@accenture.com', 's.a.kanti.kanjilal@accenture.com', 'omkar.nallagoni@accenture.com', 'sandra.sahajan@accenture.com', 'chaitanya.nelluri@accenture.com', 'c', 'h', 'a', 'i', 't', 'a', 'n', 'y', 'a', '.', 'n', 'e', 'l', 'l', 'u', 'r', 'i', '@', 'a', 'c', 'c', 'e', 'n', 't', 'u', 'r', 'e', '.', 'c', 'o', 'm']\n",
      "-------------------------------------------------------------------------------\n"
     ]
    }
   ],
   "source": [
    "# Specify the file location\n",
    "file_location = \"C:\\\\Users\\\\ArjunSkymax\\\\Downloads\\\\Emails.txt\"\n",
    "\n",
    "# Initializing empty lists for Surnames, Names, and Emails\n",
    "surnames = []\n",
    "names = []\n",
    "emails = []\n",
    "\n",
    "# Reading data from the file\n",
    "with open(file_location, \"r\") as file:\n",
    "    data = file.read()\n",
    "\n",
    "# Splitting the input data into individual entries\n",
    "entries = data.split(\"; \")\n",
    "\n",
    "# Extracting information from each entry and populating the lists\n",
    "for entry in entries:\n",
    "    parts = entry.split(\" <\")\n",
    "\n",
    "    if len(parts) >= 2:\n",
    "        name_part = parts[0]\n",
    "        email_part = parts[1][:-1]  # Removing the trailing \">\"\n",
    "\n",
    "        name_parts = name_part.split(\", \")\n",
    "        surname = name_parts[0]\n",
    "        name = name_parts[1]\n",
    "\n",
    "        surnames.append(surname)\n",
    "        names.append(name)\n",
    "        emails.append(email_part)\n",
    "\n",
    "emails.extend(i.lstrip(\"<\").rstrip(\">\") for i in email_part)\n",
    "print(surnames)\n",
    "print(\"-------------------------------------------------------------------------------\")\n",
    "print(names)\n",
    "print(\"-------------------------------------------------------------------------------\")\n",
    "print(emails)\n",
    "print(\"-------------------------------------------------------------------------------\")"
   ]
  }
 ],
 "metadata": {
  "kernelspec": {
   "display_name": "Python 3",
   "language": "python",
   "name": "python3"
  },
  "language_info": {
   "codemirror_mode": {
    "name": "ipython",
    "version": 3
   },
   "file_extension": ".py",
   "mimetype": "text/x-python",
   "name": "python",
   "nbconvert_exporter": "python",
   "pygments_lexer": "ipython3",
   "version": "3.7.6"
  }
 },
 "nbformat": 4,
 "nbformat_minor": 4
}
